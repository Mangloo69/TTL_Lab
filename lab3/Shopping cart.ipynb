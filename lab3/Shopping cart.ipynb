{
 "cells": [
  {
   "cell_type": "code",
   "execution_count": 7,
   "id": "e46696d9-4dc9-4c7e-b678-dc6e1a6e3f24",
   "metadata": {},
   "outputs": [
    {
     "name": "stdout",
     "output_type": "stream",
     "text": [
      "30 Product 1 added to the cart\n",
      "\n",
      "30 Product 1 - $10.0 each\n",
      "\n",
      "50 Product 2 added to the cart\n",
      "\n",
      "30 Product 1 - $10.0 each\n",
      "50 Product 2 - $20.0 each\n",
      "\n",
      "Product not found.\n",
      "50 Product 2 is removed from cart.\n",
      "\n",
      "30 Product 1 - $10.0 each\n",
      "\n",
      "Total cost: $300.0\n"
     ]
    }
   ],
   "source": [
    "# Define a dictionary to store product information\n",
    "products = {\n",
    "    1: {\"name\": \"Product 1\", \"price\": 10.0, \"quantity\": 100},\n",
    "    2: {\"name\": \"Product 2\", \"price\": 20.0, \"quantity\": 200},\n",
    "    3: {\"name\": \"Product 3\", \"price\": 30.0, \"quantity\": 300}\n",
    "}\n",
    "\n",
    "# Define a list to represent the shopping cart\n",
    "cart = []\n",
    "\n",
    "# Define functions to perform operations on the shopping cart\n",
    "\n",
    "def add_to_cart(product_id, quantity):\n",
    "    if product_id in products and products[product_id][\"quantity\"] >= quantity:\n",
    "        cart.append({\"id\": product_id, \"name\": products[product_id]['name'], \"price\": products[product_id]['price'], \"quantity\": quantity})\n",
    "        products[product_id]['quantity'] -= quantity\n",
    "        print(f\"{quantity} {products[product_id]['name']} added to the cart\")\n",
    "    else:\n",
    "        print(\"Product not found or not enough.\")\n",
    "\n",
    "def view_cart():\n",
    "    if len(cart) == 0:\n",
    "        print(\"Cart is empty.\")\n",
    "    for item in cart:\n",
    "        print(f\"{item['quantity']} {item['name']} - ${item['price']} each\")\n",
    "\n",
    "def remove_from_cart(product_id):\n",
    "    for item in cart:\n",
    "        if item['id'] == product_id:\n",
    "            cart.remove(item)\n",
    "            products[product_id]['quantity'] += item['quantity']\n",
    "            print(f\"{item['quantity']} {item['name']} is removed from cart.\")\n",
    "        else:\n",
    "            print(\"Product not found.\")\n",
    "    \n",
    "def calculate_total_cost():\n",
    "    total_cost = 0.0\n",
    "    for item in cart:\n",
    "        total_cost += item['price'] * item['quantity']\n",
    "    print(f\"Total cost: ${total_cost}\")\n",
    "    \n",
    "add_to_cart(1, 30)\n",
    "print()\n",
    "view_cart()\n",
    "print()\n",
    "add_to_cart(2, 50)\n",
    "print()\n",
    "view_cart()\n",
    "print()\n",
    "remove_from_cart(2)\n",
    "print()\n",
    "view_cart()\n",
    "print()\n",
    "calculate_total_cost()"
   ]
  },
  {
   "cell_type": "code",
   "execution_count": 4,
   "id": "a3f2816e-af3c-4fdd-8b46-87014d31971c",
   "metadata": {},
   "outputs": [
    {
     "name": "stdout",
     "output_type": "stream",
     "text": [
      "8\n"
     ]
    }
   ],
   "source": [
    "# Experiment 3 \n",
    "def addtwo(a, b):\n",
    "    added = a + b\n",
    "    return added\n",
    "x = addtwo(3, 5)\n",
    "print(x)\n"
   ]
  },
  {
   "cell_type": "code",
   "execution_count": null,
   "id": "58fe928d-272a-4d93-a3d7-9450a0b9e8c9",
   "metadata": {},
   "outputs": [],
   "source": []
  }
 ],
 "metadata": {
  "kernelspec": {
   "display_name": "Python 3 (ipykernel)",
   "language": "python",
   "name": "python3"
  },
  "language_info": {
   "codemirror_mode": {
    "name": "ipython",
    "version": 3
   },
   "file_extension": ".py",
   "mimetype": "text/x-python",
   "name": "python",
   "nbconvert_exporter": "python",
   "pygments_lexer": "ipython3",
   "version": "3.11.5"
  }
 },
 "nbformat": 4,
 "nbformat_minor": 5
}
