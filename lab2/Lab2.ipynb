{
 "cells": [
  {
   "cell_type": "code",
   "execution_count": 4,
   "id": "c99dee70-4f1e-4d65-9401-a8bfc0ccdbdd",
   "metadata": {},
   "outputs": [
    {
     "name": "stdout",
     "output_type": "stream",
     "text": [
      "Integer Variable: 5\n",
      "Float Variable: 3.14\n",
      "String Variable: Hello World\n",
      "Boolean Variable: True\n"
     ]
    }
   ],
   "source": [
    "#Declare variables with meaningful identifiers, assign values, and explore constants and literals.*/\n",
    "integer_variable= 5\n",
    "float_variable= 3.14\n",
    "string_variable= \"Hello World\"\n",
    "boolean_variable= True\n",
    "\n",
    "#Add comments to your code to provide explanations and improve readability.*/\n",
    "\n",
    "#This is integer variable\n",
    "print(\"Integer Variable:\", integer_variable)\n",
    "#This is float variable\n",
    "print(\"Float Variable:\", float_variable)\n",
    "#This is string variable\n",
    "print(\"String Variable:\", string_variable)\n",
    "#This is boolean variable\n",
    "print(\"Boolean Variable:\", boolean_variable)\n"
   ]
  },
  {
   "cell_type": "code",
   "execution_count": 7,
   "id": "e5e957ef-875e-440a-aadb-963cf26f1ea0",
   "metadata": {},
   "outputs": [
    {
     "name": "stdin",
     "output_type": "stream",
     "text": [
      "Enter your name:  Swayam\n"
     ]
    },
    {
     "name": "stdout",
     "output_type": "stream",
     "text": [
      "Hello Swayam\n"
     ]
    }
   ],
   "source": [
    "#Use the input() function to get the user input and print() function for output.\n",
    "user_name=input(\"Enter your name: \")\n",
    "print(\"Hello\", user_name)\n"
   ]
  },
  {
   "cell_type": "code",
   "execution_count": 7,
   "id": "5c92cd36-98d6-413a-9365-2049cf00c155",
   "metadata": {},
   "outputs": [
    {
     "name": "stdout",
     "output_type": "stream",
     "text": [
      "Integer Variable: 5\n",
      "Float Variable: 3.14\n",
      "String Variable: Hello World\n",
      "Boolean Variable: True\n"
     ]
    },
    {
     "name": "stdin",
     "output_type": "stream",
     "text": [
      "Enter your name:  Swayam\n",
      "Enter your age:  21\n",
      "Enter your height in meter:  1.8\n",
      "Are you a student? True/False:  True\n"
     ]
    },
    {
     "name": "stdout",
     "output_type": "stream",
     "text": [
      "Swayam\n",
      "21\n",
      "1.8\n",
      "True\n",
      "Sum:  26\n",
      "Difference:  1.34\n",
      "Product:  105\n",
      "Quotient:  4.2\n",
      "Floor division:  4\n",
      "Modulo:  1\n"
     ]
    }
   ],
   "source": [
    "#Declare variables with meaningful identifiers, assign values, and explore constants and literals.*/\n",
    "integer_variable= 5\n",
    "float_variable= 3.14\n",
    "string_variable= \"Hello World\"\n",
    "boolean_variable= True\n",
    "\n",
    "#This is integer variable\n",
    "print(\"Integer Variable:\", integer_variable)\n",
    "#This is float variable\n",
    "print(\"Float Variable:\", float_variable)\n",
    "#This is string variable\n",
    "print(\"String Variable:\", string_variable)\n",
    "#This is boolean variable\n",
    "print(\"Boolean Variable:\", boolean_variable)\n",
    "\n",
    "#Explore different data types such as int, float, str and bool.\n",
    "name = input(\"Enter your name: \")\n",
    "age = int(input(\"Enter your age: \"))\n",
    "height = float(input(\"Enter your height in meter: \"))\n",
    "is_student = bool(input(\"Are you a student? True/False: \"))\n",
    "\n",
    "print(name)\n",
    "print(age)\n",
    "print(height)\n",
    "print(is_student)\n",
    "\n",
    "# Perform operations with numbers and explore type conversion.\n",
    "# Arithmetic operations\n",
    "#Use operators (+, -, /, //, %, *) to create expressions.\n",
    "\n",
    "result_sum = integer_variable + age\n",
    "result_difference = float_variable - height\n",
    "result_product = age * integer_variable\n",
    "result_quotient = age / integer_variable\n",
    "result_floor_division = age // integer_variable\n",
    "result_modulo = age % integer_variable\n",
    "\n",
    "print(\"Sum: \",result_sum)\n",
    "print(\"Difference: \",result_difference)\n",
    "print(\"Product: \",result_product)\n",
    "print(\"Quotient: \",result_quotient)\n",
    "print(\"Floor division: \",result_floor_division)\n",
    "print(\"Modulo: \",result_modulo)\n"
   ]
  },
  {
   "cell_type": "code",
   "execution_count": 11,
   "id": "2cb821d1-9781-4c96-9f2d-070f3c888c90",
   "metadata": {},
   "outputs": [
    {
     "name": "stdout",
     "output_type": "stream",
     "text": [
      "Name: Swayam\n",
      "Age: 21\n",
      "City: Bhuwaneswar\n",
      "Is Student: True\n"
     ]
    }
   ],
   "source": [
    "#Creating a dictionary\n",
    "my_dict={\n",
    "    'name':'Swayam',\n",
    "    'age':21,\n",
    "    'city':'Bhuwaneswar',\n",
    "    'is_student':True\n",
    "}\n",
    "\n",
    "#Accessing the values in the dictionary\n",
    "print(\"Name:\", my_dict['name'])\n",
    "print(\"Age:\", my_dict['age'])\n",
    "print(\"City:\", my_dict['city'])\n",
    "print(\"Is Student:\", my_dict['is_student'])\n"
   ]
  },
  {
   "cell_type": "code",
   "execution_count": 12,
   "id": "8c8dd724-233a-475c-84dc-81820ee87058",
   "metadata": {},
   "outputs": [
    {
     "name": "stdout",
     "output_type": "stream",
     "text": [
      "Type of a:  <class 'str'>\n",
      "\n",
      "Type of a:  <class 'int'>\n",
      "\n",
      "Type of a:  <class 'float'>\n",
      "\n",
      "Type of a:  <class 'complex'>\n",
      "\n",
      "Type of a:  <class 'list'>\n",
      "\n",
      "Type of a:  <class 'tuple'>\n",
      "\n",
      "Type of a:  <class 'range'>\n",
      "\n",
      "Type of a:  <class 'dict'>\n",
      "\n",
      "Type of a:  <class 'set'>\n",
      "\n",
      "Type of a:  <class 'frozenset'>\n",
      "\n",
      "Type of a:  <class 'bool'>\n",
      "\n",
      "Type of a:  <class 'bytes'>\n",
      "\n",
      "Type of a:  <class 'bytearray'>\n",
      "\n",
      "Type of a:  <class 'memoryview'>\n",
      "\n",
      "Type of a:  <class 'NoneType'>\n"
     ]
    }
   ],
   "source": [
    "x = \"Hello World\" #string\n",
    "print(\"Type of a: \", type(x)) \n",
    "x = 50 #integer\n",
    "print(\"\\nType of a: \", type(x)) \n",
    "x = 60.5 #float\n",
    "print(\"\\nType of a: \", type(x))\n",
    "x = 3j #complex\n",
    "print(\"\\nType of a: \", type(x))\n",
    "x = [\"geeks\", \"for\", \"geeks\"] #list \n",
    "print(\"\\nType of a: \", type(x))\n",
    "x = (\"geeks\", \"for\", \"geeks\") #tuple\n",
    "print(\"\\nType of a: \", type(x))\n",
    "x = range(10) #range\n",
    "print(\"\\nType of a: \", type(x))\n",
    "x = {\"name\": \"Suraj\", \"age\": 24} #dict\n",
    "print(\"\\nType of a: \", type(x))\n",
    "x = {\"geeks\", \"for\", \"geeks\"} #set\n",
    "print(\"\\nType of a: \", type(x))\n",
    "x = frozenset({\"geeks\", \"for\", \"geeks\"}) #frozenset\n",
    "print(\"\\nType of a: \", type(x))\n",
    "x = True #bool\n",
    "print(\"\\nType of a: \", type(x))\n",
    "x = b\"Geeks\" #bytes\n",
    "print(\"\\nType of a: \", type(x))\n",
    "x = bytearray(4) #bytearray\n",
    "print(\"\\nType of a: \", type(x))\n",
    "x = memoryview(bytes(6)) #memoryview\n",
    "print(\"\\nType of a: \", type(x))\n",
    "x = None #NoneType\n",
    "print(\"\\nType of a: \", type(x))"
   ]
  },
  {
   "cell_type": "code",
   "execution_count": 18,
   "id": "1cb0f19e-b4fb-4af7-8b32-e7e6e41f4b8c",
   "metadata": {},
   "outputs": [
    {
     "name": "stdout",
     "output_type": "stream",
     "text": [
      "This is a string using singal quote\n",
      "This is a string using double quote\n",
      "This is a string using triple quote\n",
      "First letter of the string1 is: \n",
      "T\n",
      "Last letter of the string1 is: \n",
      "e\n"
     ]
    }
   ],
   "source": [
    "string1='This is a string using singal quote'\n",
    "string2= \"This is a string using double quote\"\n",
    "string3= '''This is a string using triple quote'''\n",
    "print(string1)\n",
    "print(string2)\n",
    "print(string3)\n",
    "print(\"First letter of the string1 is: \")\n",
    "print(string1[0])\n",
    "print(\"Last letter of the string1 is: \")\n",
    "print(string1[-1])"
   ]
  },
  {
   "cell_type": "code",
   "execution_count": 35,
   "id": "7d5f1d2c-7114-4be6-9a46-f173c6887a41",
   "metadata": {},
   "outputs": [
    {
     "name": "stdout",
     "output_type": "stream",
     "text": [
      "Initial blank list\n",
      "[]\n",
      "\n",
      "List of numbers: \n",
      "[10, 20, 14]\n",
      "\n",
      "List with the use of string\n",
      "['Coffee']\n",
      "\n",
      "List after Addition of Three elements: \n",
      "['Coffee', 1, 2, 3]\n",
      "\n",
      "List after Addition of elements from 1-4: \n",
      "['Coffee', 1, 2, 3, 1, 2, 3, 4]\n",
      "\n",
      "List containing mutiple values\n",
      "hey\n",
      "hellu\n",
      "\n",
      "Multi-dimentional List\n",
      "[['Apple', 'Banana'], ['Cherry']]\n",
      "Accessing a element from a Multi-Dimensional list\n",
      "Banana\n",
      "Cherry\n",
      "Apple\n",
      "['Cherry']\n",
      "['Apple', 'Banana']\n",
      "8\n",
      "0\n",
      "3\n",
      "3\n",
      "2\n"
     ]
    }
   ],
   "source": [
    "# Creation of List\n",
    " \n",
    "# Creating a List\n",
    "List1 = []\n",
    "print(\"Initial blank list\")\n",
    "print (List1)\n",
    "\n",
    "# Creating a List of numbers\n",
    "List2 = [10, 20, 14]\n",
    "print(\"\\nList of numbers: \")\n",
    "print(List2)\n",
    "\n",
    "# Creating a list with the use of string\n",
    "List = ['Coffee']\n",
    "print(\"\\nList with the use of string\")\n",
    "print (List)\n",
    "\n",
    "# Addition of Elements\n",
    "# in the List\n",
    "List.append(1)\n",
    "List.append(2)\n",
    "List.append(3)\n",
    "print(\"\\nList after Addition of Three elements: \")\n",
    "print(List)\n",
    "\n",
    "# Adding elements to the List\n",
    "# using Iterator\n",
    "for i in range(1, 5):\n",
    "    List.append(i)\n",
    "print(\"\\nList after Addition of elements from 1-4: \")\n",
    "print(List)\n",
    "\n",
    "# Creating a List of strings and accessing\n",
    "# using index\n",
    "List3 = [\"hey\", \"hi\", \"hellu\"]\n",
    "print(\"\\nList containing mutiple values\")\n",
    "print (List3[0])\n",
    "print (List3[2])\n",
    "\n",
    "# Creating a Multi-Dimensional List\n",
    "# (By Nesting a list inside a List)\n",
    "List4 = [[\"Apple\", \"Banana\"], [\"Cherry\"]]\n",
    "print (\"\\nMulti-dimentional List\")\n",
    "print (List4)\n",
    "\n",
    "# accessing an element from the\n",
    "# Multi-Dimensional List using index number\n",
    "print(\"Accessing a element from a Multi-Dimensional list\")\n",
    "print(List4[0][1])\n",
    "print(List4[1][0])\n",
    "print(List4[0][0])\n",
    "# accessing an element using negative indexing\n",
    "print(List4[-1])\n",
    "print(List4[-2])\n",
    "\n",
    "#getting the size of the list using len() function\n",
    "print(len(List))\n",
    "print(len(List1))\n",
    "print(len(List2))\n",
    "print(len(List3))\n",
    "print(len(List4))"
   ]
  },
  {
   "cell_type": "code",
   "execution_count": 30,
   "id": "bbb75253-c914-4f5c-a87f-f9587f7672ef",
   "metadata": {},
   "outputs": [
    {
     "name": "stdin",
     "output_type": "stream",
     "text": [
      "Enter elements (Space-seperated:  My Name Is Swayam Yadav\n"
     ]
    },
    {
     "name": "stdout",
     "output_type": "stream",
     "text": [
      "The list is:  ['My', 'Name', 'Is', 'Swayam', 'Yadav']\n"
     ]
    }
   ],
   "source": [
    "# Python program to take space-separated input as a string split and store it to a list\n",
    "# and print the string list\n",
    " \n",
    "# input the list as string\n",
    "string=input(\"Enter elements (Space-seperated: \")\n",
    "\n",
    "#split the string and store it to the list using split() funtion\n",
    "lst= string.split()\n",
    "print(\"The list is: \",lst)\n"
   ]
  },
  {
   "cell_type": "code",
   "execution_count": null,
   "id": "cbb54028-d716-4ec5-8cab-ffb09d462004",
   "metadata": {},
   "outputs": [],
   "source": []
  }
 ],
 "metadata": {
  "kernelspec": {
   "display_name": "Python 3 (ipykernel)",
   "language": "python",
   "name": "python3"
  },
  "language_info": {
   "codemirror_mode": {
    "name": "ipython",
    "version": 3
   },
   "file_extension": ".py",
   "mimetype": "text/x-python",
   "name": "python",
   "nbconvert_exporter": "python",
   "pygments_lexer": "ipython3",
   "version": "3.11.5"
  }
 },
 "nbformat": 4,
 "nbformat_minor": 5
}
